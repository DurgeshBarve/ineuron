{
 "cells": [
  {
   "cell_type": "markdown",
   "id": "13b1cf6a",
   "metadata": {},
   "source": [
    "1.\tWrite a Python program to print \"Hello Python\"?"
   ]
  },
  {
   "cell_type": "code",
   "execution_count": 4,
   "id": "503b8482",
   "metadata": {},
   "outputs": [
    {
     "name": "stdout",
     "output_type": "stream",
     "text": [
      "Hello Python\n"
     ]
    }
   ],
   "source": [
    "string = \"Hello Python\"\n",
    "print(string)"
   ]
  },
  {
   "cell_type": "markdown",
   "id": "aa7844c3",
   "metadata": {},
   "source": [
    "2.\tWrite a Python program to do arithmetical operations addition and division.?"
   ]
  },
  {
   "cell_type": "code",
   "execution_count": 5,
   "id": "534feae2",
   "metadata": {},
   "outputs": [
    {
     "name": "stdout",
     "output_type": "stream",
     "text": [
      "Please enter first number :10\n",
      "Please enter second number :0\n",
      "Please enter valid number other than zero :20\n",
      "Addition of two numbers is : 30\n",
      "Division of two nubers is : 0.5\n"
     ]
    }
   ],
   "source": [
    "a = int(input(\"Please enter first number :\"))\n",
    "b = int(input(\"Please enter second number :\"))\n",
    "\n",
    "if b==0:\n",
    "    b=int(input(\"Please enter valid number other than zero :\"))\n",
    "\n",
    "addition = a + b\n",
    "division = a/b\n",
    "print(\"Addition of two numbers is :\", addition)\n",
    "print(\"Division of two nubers is :\", division)"
   ]
  },
  {
   "cell_type": "markdown",
   "id": "88781b27",
   "metadata": {},
   "source": [
    "3.\tWrite a Python program to find the area of a triangle?"
   ]
  },
  {
   "cell_type": "code",
   "execution_count": 10,
   "id": "659a6052",
   "metadata": {},
   "outputs": [
    {
     "name": "stdout",
     "output_type": "stream",
     "text": [
      "Please enter base of triangle :100\n",
      "Please enter height of triangle :20\n",
      "Area of triangle with base 100 and height 20 is1000.0\n"
     ]
    }
   ],
   "source": [
    "# area of traingle is 1/2 * base *height\n",
    "b = int(input(\"Please enter base of triangle :\"))\n",
    "h = int(input(\"Please enter height of triangle :\"))\n",
    "area = 0.5*(b*h)\n",
    "print(\"Area of triangle with base {} and height {} is {}\".format(b,h,area))"
   ]
  },
  {
   "cell_type": "markdown",
   "id": "44c4cb34",
   "metadata": {},
   "source": [
    "4.\tWrite a Python program to swap two variables?"
   ]
  },
  {
   "cell_type": "code",
   "execution_count": 11,
   "id": "8db194a7",
   "metadata": {},
   "outputs": [
    {
     "name": "stdout",
     "output_type": "stream",
     "text": [
      "python\n",
      "hello\n"
     ]
    }
   ],
   "source": [
    "a=\"hello\"\n",
    "b=\"python\"\n",
    "a,b=b,a\n",
    "print(a)\n",
    "print(b)"
   ]
  },
  {
   "cell_type": "markdown",
   "id": "7904e4fb",
   "metadata": {},
   "source": [
    "5.\tWrite a Python program to generate a random number?"
   ]
  },
  {
   "cell_type": "code",
   "execution_count": 14,
   "id": "fb3827aa",
   "metadata": {},
   "outputs": [
    {
     "name": "stdout",
     "output_type": "stream",
     "text": [
      "0.030959466854205808\n"
     ]
    }
   ],
   "source": [
    "import random\n",
    "n = random.random()\n",
    "print(n)"
   ]
  }
 ],
 "metadata": {
  "kernelspec": {
   "display_name": "Python 3 (ipykernel)",
   "language": "python",
   "name": "python3"
  },
  "language_info": {
   "codemirror_mode": {
    "name": "ipython",
    "version": 3
   },
   "file_extension": ".py",
   "mimetype": "text/x-python",
   "name": "python",
   "nbconvert_exporter": "python",
   "pygments_lexer": "ipython3",
   "version": "3.9.7"
  }
 },
 "nbformat": 4,
 "nbformat_minor": 5
}
